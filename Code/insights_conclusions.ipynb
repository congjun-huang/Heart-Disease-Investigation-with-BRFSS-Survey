{
 "cells": [
  {
   "cell_type": "code",
   "execution_count": 5,
   "id": "d6e0806e",
   "metadata": {},
   "outputs": [],
   "source": [
    "# import necessary packages\n",
    "import pandas as pd\n",
    "import numpy as np\n",
    "import matplotlib.pyplot as plt\n",
    "import seaborn as sns\n",
    "sns.set()\n",
    "import pickle\n",
    "\n",
    "from sklearn import tree\n",
    "from sklearn.tree import DecisionTreeClassifier\n",
    "from sklearn.ensemble import RandomForestClassifier\n",
    "import graphviz\n",
    "import pydotplus\n",
    "from IPython.display import Image \n",
    "\n",
    "from sklearn.metrics import roc_auc_score, roc_curve, auc\n",
    "from sklearn.metrics import precision_recall_curve, average_precision_score\n",
    "from sklearn.metrics import confusion_matrix\n",
    "\n",
    "import warnings\n",
    "warnings.filterwarnings('ignore')"
   ]
  },
  {
   "cell_type": "code",
   "execution_count": 2,
   "id": "d2ed2af9",
   "metadata": {},
   "outputs": [],
   "source": [
    "# read model pickle files\n",
    "with open('best_model.pickle', 'rb') as file:\n",
    "    best_model = pickle.load(file)"
   ]
  },
  {
   "cell_type": "code",
   "execution_count": 3,
   "id": "37f068ac",
   "metadata": {},
   "outputs": [],
   "source": [
    "# get training and test data\n",
    "X_train = pd.read_csv('X_train.csv')\n",
    "X_train.index = X_train['Unnamed: 0']\n",
    "X_train = X_train.drop(['Unnamed: 0'], axis=1)\n",
    "X_train.index.name = ''\n",
    "\n",
    "y_train = pd.read_csv('y_train.csv')\n",
    "y_train.index = y_train['Unnamed: 0']\n",
    "y_train = y_train.drop(['Unnamed: 0'], axis=1)\n",
    "y_train.index.name = ''\n",
    "\n",
    "X_test = pd.read_csv('X_test.csv')\n",
    "X_test.index = X_test['Unnamed: 0']\n",
    "X_test = X_test.drop(['Unnamed: 0'], axis=1)\n",
    "X_test.index.name = ''\n",
    "\n",
    "y_test = pd.read_csv('y_test.csv')\n",
    "y_test.index = y_test['Unnamed: 0']\n",
    "y_test = y_test.drop(['Unnamed: 0'], axis=1)\n",
    "y_test.index.name = ''"
   ]
  },
  {
   "cell_type": "code",
   "execution_count": 4,
   "id": "8b3af29f",
   "metadata": {},
   "outputs": [],
   "source": [
    "# retrain best model on entire training set\n",
    "final_model = best_model.fit(X_train, y_train)"
   ]
  },
  {
   "cell_type": "markdown",
   "id": "bc81aee2",
   "metadata": {},
   "source": [
    "## 1. Final model visualization"
   ]
  },
  {
   "cell_type": "markdown",
   "id": "8b736a0f",
   "metadata": {},
   "source": [
    "I visualized the final model `RandomForestClassifier(criterion='entropy', max_depth=10, n_estimators=70)` to make the mechanisms inside it more explicit. The outcome is 70 pdf files, which can all be found in the same repository."
   ]
  },
  {
   "cell_type": "code",
   "execution_count": 7,
   "id": "11531de0",
   "metadata": {},
   "outputs": [],
   "source": [
    "# visualize final model random forest classifier\n",
    "i = 0\n",
    "for per_rf in final_model:\n",
    "    dot_data = tree.export_graphviz(per_rf, out_file=None,\n",
    "                                    feature_names=X_train.columns,\n",
    "                                    class_names=['0','1'],\n",
    "                                    filled=True, rounded=True,\n",
    "                                    special_characters=True,\n",
    "                                    precision=2)\n",
    "    graph = pydotplus.graph_from_dot_data(dot_data)\n",
    "    i = i + 1\n",
    "    graph.write_pdf(str(i)+\"DTTree.pdf\")"
   ]
  },
  {
   "cell_type": "markdown",
   "id": "4b689d19",
   "metadata": {},
   "source": [
    "## 2. Feature importance analysis"
   ]
  },
  {
   "cell_type": "markdown",
   "id": "4831ab13",
   "metadata": {},
   "source": [
    "I performed feature importance analysis to figure out which features have higher tendency leading to heart disease based on the final model. I selected top 10 important features to make further comparision and discussion."
   ]
  },
  {
   "cell_type": "code",
   "execution_count": 8,
   "id": "7f9c8dd2",
   "metadata": {},
   "outputs": [],
   "source": [
    "# perform feature importance analysis\n",
    "def feature_importance_analysis(model, feat_names, nums):\n",
    "    importances = model.feature_importances_\n",
    "    indices = np.argsort(importances)[::-1]\n",
    "    ranked_feats = []\n",
    "    for i in range(len(indices)):\n",
    "        ranked_feats.append(feat_names[indices[i]])\n",
    "    ranking = pd.DataFrame()\n",
    "    ranking['Feature Index'] = indices\n",
    "    ranking['Feature Name'] = ranked_feats\n",
    "    ranking['Feature Importance'] = np.sort(importances)[::-1]\n",
    "    display(ranking.iloc[:nums,:])\n",
    "    \n",
    "    ax = ranking[:nums][::-1].plot(x='Feature Name', y='Feature Importance', kind='barh', color='orange',\n",
    "                                   figsize=(12,7), legend=False)\n",
    "    ax.set_xlabel('Feature Importance', fontsize=12)\n",
    "    plt.show()\n",
    "    \n",
    "    return"
   ]
  },
  {
   "cell_type": "code",
   "execution_count": 11,
   "id": "f6e034cc",
   "metadata": {},
   "outputs": [
    {
     "data": {
      "text/html": [
       "<div>\n",
       "<style scoped>\n",
       "    .dataframe tbody tr th:only-of-type {\n",
       "        vertical-align: middle;\n",
       "    }\n",
       "\n",
       "    .dataframe tbody tr th {\n",
       "        vertical-align: top;\n",
       "    }\n",
       "\n",
       "    .dataframe thead th {\n",
       "        text-align: right;\n",
       "    }\n",
       "</style>\n",
       "<table border=\"1\" class=\"dataframe\">\n",
       "  <thead>\n",
       "    <tr style=\"text-align: right;\">\n",
       "      <th></th>\n",
       "      <th>Feature Index</th>\n",
       "      <th>Feature Name</th>\n",
       "      <th>Feature Importance</th>\n",
       "    </tr>\n",
       "  </thead>\n",
       "  <tbody>\n",
       "    <tr>\n",
       "      <th>0</th>\n",
       "      <td>7</td>\n",
       "      <td>AgeCategory</td>\n",
       "      <td>0.333482</td>\n",
       "    </tr>\n",
       "    <tr>\n",
       "      <th>1</th>\n",
       "      <td>9</td>\n",
       "      <td>GenHealth</td>\n",
       "      <td>0.193598</td>\n",
       "    </tr>\n",
       "    <tr>\n",
       "      <th>2</th>\n",
       "      <td>6</td>\n",
       "      <td>DiffWalking</td>\n",
       "      <td>0.078499</td>\n",
       "    </tr>\n",
       "    <tr>\n",
       "      <th>3</th>\n",
       "      <td>3</td>\n",
       "      <td>Stroke</td>\n",
       "      <td>0.064018</td>\n",
       "    </tr>\n",
       "    <tr>\n",
       "      <th>4</th>\n",
       "      <td>4</td>\n",
       "      <td>PhysicalHealth</td>\n",
       "      <td>0.039357</td>\n",
       "    </tr>\n",
       "    <tr>\n",
       "      <th>5</th>\n",
       "      <td>24</td>\n",
       "      <td>Diabetic_Yes</td>\n",
       "      <td>0.038459</td>\n",
       "    </tr>\n",
       "    <tr>\n",
       "      <th>6</th>\n",
       "      <td>0</td>\n",
       "      <td>BMI</td>\n",
       "      <td>0.037481</td>\n",
       "    </tr>\n",
       "    <tr>\n",
       "      <th>7</th>\n",
       "      <td>22</td>\n",
       "      <td>Diabetic_No</td>\n",
       "      <td>0.031061</td>\n",
       "    </tr>\n",
       "    <tr>\n",
       "      <th>8</th>\n",
       "      <td>1</td>\n",
       "      <td>Smoking</td>\n",
       "      <td>0.023417</td>\n",
       "    </tr>\n",
       "    <tr>\n",
       "      <th>9</th>\n",
       "      <td>15</td>\n",
       "      <td>Sex_Male</td>\n",
       "      <td>0.023413</td>\n",
       "    </tr>\n",
       "  </tbody>\n",
       "</table>\n",
       "</div>"
      ],
      "text/plain": [
       "   Feature Index    Feature Name  Feature Importance\n",
       "0              7     AgeCategory            0.333482\n",
       "1              9       GenHealth            0.193598\n",
       "2              6     DiffWalking            0.078499\n",
       "3              3          Stroke            0.064018\n",
       "4              4  PhysicalHealth            0.039357\n",
       "5             24    Diabetic_Yes            0.038459\n",
       "6              0             BMI            0.037481\n",
       "7             22     Diabetic_No            0.031061\n",
       "8              1         Smoking            0.023417\n",
       "9             15        Sex_Male            0.023413"
      ]
     },
     "metadata": {},
     "output_type": "display_data"
    },
    {
     "data": {
      "image/png": "[encoded data removed]",
      "text/plain": [
       "<Figure size 864x504 with 1 Axes>"
      ]
     },
     "metadata": {},
     "output_type": "display_data"
    }
   ],
   "source": [
    "# find top 10 important features\n",
    "feature_importance_analysis(final_model, X_train.columns, 10)"
   ]
  },
  {
   "cell_type": "markdown",
   "id": "8dba9655",
   "metadata": {},
   "source": [
    "The top 10 important features are: AgeCategory (0.333) > GenHealth (0.194) > DiffWalking (0.078) > Stroke (0.064) > PhysicalHealth (0.039) > Diabetic_Yes (0.038) > BMI (0.037) > Diabetic_No (0.031) > Smoking (0.023) > Sex_Male (0.023).\n",
    "\n",
    "It is worth noticing that the top 5 important features are AgeCategory, GenHealth, DiffWalking, Stroke and PhysicalHealth. Aging problem ranks the first, which is in line with other medical evidence and common sense. In other words, the probability of having a heart disease increases the greatest when respondents get older. As for GenHealth, the probability of having a heart disease increases significantly if respondents rate themselves as unhealthier. Hence, self-evaluation of the respondent, which might often be neglected in the past, should be taken into consideration more seriously. Having severe difficulty walking or climbing stairs is also recognized as an essential feature, which indicates such behavior could be a strong precursor to heart disease.\n",
    "\n",
    "Stroke ranks the fourth and is more important compared with other diseases such as diabetes, asthma, kidney problems and skin cancer. One possible explaination is that stroke is also a kind of Cardiovascular Disease (CVD) just like heart disease, and there might be a higher probability in complications of CVD. PhysicalHealth ranks the fifth, hence the number of recent days that respondents considered themselves as unhealthy should also be taken into serious consideration like GenHealth."
   ]
  },
  {
   "cell_type": "markdown",
   "id": "c9f02cfd",
   "metadata": {},
   "source": [
    "## 3. Discussions & conclusions"
   ]
  },
  {
   "cell_type": "markdown",
   "id": "dcfefd71",
   "metadata": {},
   "source": [
    "To sum up,  `RandomForestClassifier(criterion='entropy', max_depth=10, n_estimators=70)` is chosen as the best among all of the classifiers, compared with other models which utilize Gradient Boosting, Bagging, Decision Tree and Adaptive Boosting techniques. For evaluation on test set, it has a high AUC of 0.842 and AP of 0.827.\n",
    "\n",
    "The drawback of the project is that the false negative rate (0.191) is not as low as what we expected. Relatively inaccurate results like this may give patients a false sense of security, leading them to become lax about dieting and exercising. To deal with this, some future work needs to be done. For example, the adjustments could be: 1. use oversampling instead of undersampling to get more datapoints, which might benefit model training, tuning, evaluating and predicting. 2. perform analysis first to narrow down the number of variables (e.g. PCA), and select more proper features with heart disease to optimize the models.\n",
    "\n",
    "For the insights, aging problem, self-evaluation, difficulty walking or climbing stairs, stroke and recent days assessment are found to be the top 5 important features for heart disease. This finding could educate doctors, nurses, researchers and potential patients to focus more on these factors and take precautions in advance."
   ]
  }
 ],
 "metadata": {
  "kernelspec": {
   "display_name": "Python 3",
   "language": "python",
   "name": "python3"
  },
  "language_info": {
   "codemirror_mode": {
    "name": "ipython",
    "version": 3
   },
   "file_extension": ".py",
   "mimetype": "text/x-python",
   "name": "python",
   "nbconvert_exporter": "python",
   "pygments_lexer": "ipython3",
   "version": "3.8.8"
  }
 },
 "nbformat": 4,
 "nbformat_minor": 5
}
